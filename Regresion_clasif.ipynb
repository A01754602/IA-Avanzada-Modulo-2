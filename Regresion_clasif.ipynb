{
 "cells": [
  {
   "cell_type": "code",
   "execution_count": 60,
   "metadata": {},
   "outputs": [],
   "source": [
    "import numpy as np\n",
    "import pandas as pd\n",
    "import matplotlib.pyplot as plt\n",
    "from sklearn.model_selection import train_test_split\n",
    "from sklearn.metrics import confusion_matrix, ConfusionMatrixDisplay, precision_score, recall_score, f1_score, accuracy_score"
   ]
  },
  {
   "cell_type": "code",
   "execution_count": 61,
   "metadata": {},
   "outputs": [
    {
     "data": {
      "text/html": [
       "<div>\n",
       "<style scoped>\n",
       "    .dataframe tbody tr th:only-of-type {\n",
       "        vertical-align: middle;\n",
       "    }\n",
       "\n",
       "    .dataframe tbody tr th {\n",
       "        vertical-align: top;\n",
       "    }\n",
       "\n",
       "    .dataframe thead th {\n",
       "        text-align: right;\n",
       "    }\n",
       "</style>\n",
       "<table border=\"1\" class=\"dataframe\">\n",
       "  <thead>\n",
       "    <tr style=\"text-align: right;\">\n",
       "      <th></th>\n",
       "      <th>Peso (kg)</th>\n",
       "      <th>Tiempo de vuelta (s)</th>\n",
       "      <th>Carro de carreras</th>\n",
       "    </tr>\n",
       "  </thead>\n",
       "  <tbody>\n",
       "    <tr>\n",
       "      <th>0</th>\n",
       "      <td>1099.632095</td>\n",
       "      <td>63.771502</td>\n",
       "      <td>No</td>\n",
       "    </tr>\n",
       "    <tr>\n",
       "      <th>1</th>\n",
       "      <td>1560.571445</td>\n",
       "      <td>136.369249</td>\n",
       "      <td>No</td>\n",
       "    </tr>\n",
       "    <tr>\n",
       "      <th>2</th>\n",
       "      <td>1385.595153</td>\n",
       "      <td>97.722718</td>\n",
       "      <td>Sí</td>\n",
       "    </tr>\n",
       "    <tr>\n",
       "      <th>3</th>\n",
       "      <td>1278.926787</td>\n",
       "      <td>121.028483</td>\n",
       "      <td>Sí</td>\n",
       "    </tr>\n",
       "    <tr>\n",
       "      <th>4</th>\n",
       "      <td>924.814912</td>\n",
       "      <td>168.907977</td>\n",
       "      <td>No</td>\n",
       "    </tr>\n",
       "    <tr>\n",
       "      <th>...</th>\n",
       "      <td>...</td>\n",
       "      <td>...</td>\n",
       "      <td>...</td>\n",
       "    </tr>\n",
       "    <tr>\n",
       "      <th>95</th>\n",
       "      <td>1195.036477</td>\n",
       "      <td>101.905149</td>\n",
       "      <td>Sí</td>\n",
       "    </tr>\n",
       "    <tr>\n",
       "      <th>96</th>\n",
       "      <td>1218.186264</td>\n",
       "      <td>147.114681</td>\n",
       "      <td>Sí</td>\n",
       "    </tr>\n",
       "    <tr>\n",
       "      <th>97</th>\n",
       "      <td>1142.032815</td>\n",
       "      <td>167.653231</td>\n",
       "      <td>No</td>\n",
       "    </tr>\n",
       "    <tr>\n",
       "      <th>98</th>\n",
       "      <td>820.335301</td>\n",
       "      <td>166.450371</td>\n",
       "      <td>Sí</td>\n",
       "    </tr>\n",
       "    <tr>\n",
       "      <th>99</th>\n",
       "      <td>886.313142</td>\n",
       "      <td>153.585066</td>\n",
       "      <td>No</td>\n",
       "    </tr>\n",
       "  </tbody>\n",
       "</table>\n",
       "<p>100 rows × 3 columns</p>\n",
       "</div>"
      ],
      "text/plain": [
       "      Peso (kg)  Tiempo de vuelta (s) Carro de carreras\n",
       "0   1099.632095             63.771502                No\n",
       "1   1560.571445            136.369249                No\n",
       "2   1385.595153             97.722718                Sí\n",
       "3   1278.926787            121.028483                Sí\n",
       "4    924.814912            168.907977                No\n",
       "..          ...                   ...               ...\n",
       "95  1195.036477            101.905149                Sí\n",
       "96  1218.186264            147.114681                Sí\n",
       "97  1142.032815            167.653231                No\n",
       "98   820.335301            166.450371                Sí\n",
       "99   886.313142            153.585066                No\n",
       "\n",
       "[100 rows x 3 columns]"
      ]
     },
     "execution_count": 61,
     "metadata": {},
     "output_type": "execute_result"
    }
   ],
   "source": [
    "df = pd.read_excel('/Users/raulguzman/Documents/Escuela/Septimo/proyectos/IA-Avanzada-Modulo-2/IA-Avanzada-Modulo-2/dataset_carros.xlsx')\n",
    "df"
   ]
  },
  {
   "cell_type": "code",
   "execution_count": 62,
   "metadata": {},
   "outputs": [],
   "source": [
    "x = df['Peso (kg)'].to_numpy()\n",
    "y = df['Tiempo de vuelta (s)'].to_numpy()\n",
    "carro = df['Carro de carreras'].to_numpy()\n",
    "\n",
    "# Separar los datos en entrenamiento y prueba.\n",
    "x_train, x_test, y_train, y_test, carro_train, carro_test = train_test_split(x, y, carro, test_size=0.3, random_state=42)"
   ]
  },
  {
   "cell_type": "code",
   "execution_count": 63,
   "metadata": {},
   "outputs": [
    {
     "name": "stdout",
     "output_type": "stream",
     "text": [
      "(array(['No', 'Sí'], dtype=object), array([39, 31]))\n"
     ]
    }
   ],
   "source": [
    "print(np.unique(carro_train, return_counts=True))"
   ]
  },
  {
   "cell_type": "code",
   "execution_count": 64,
   "metadata": {},
   "outputs": [],
   "source": [
    "#Parametros iniciales \n",
    "\n",
    "m = 0\n",
    "b = 0\n",
    "epochs = 10000\n",
    "alpha = 0.0000001\n",
    "tolerance = 1e-6\n",
    "n_t = len(x)"
   ]
  },
  {
   "cell_type": "code",
   "execution_count": 65,
   "metadata": {},
   "outputs": [
    {
     "name": "stdout",
     "output_type": "stream",
     "text": [
      "Iteracion: 1, m = 0.00982046398787413, b = 8.344083422008618e-06\n",
      "Converge en la iteracion: 88\n"
     ]
    }
   ],
   "source": [
    "#Algoritmo de descenso de gradiente \n",
    "\n",
    "for epoch in range(epochs):\n",
    "    # Calculo de la prediccion y el error\n",
    "    y_pred = m * x_train + b\n",
    "    error = y_pred - y_train\n",
    "    # Calculo del gradiente \n",
    "    grad_m = (1/n_t) * sum(error * x_train)\n",
    "    grad_b = (1/n_t) * sum(error)\n",
    "    # Actualizacion de los parametros\n",
    "    m = m - alpha * grad_m\n",
    "    b = b - alpha * grad_b\n",
    "    #Verificar la convergencia\n",
    "    if abs(alpha*grad_m) < tolerance and abs(alpha * grad_b) < tolerance:\n",
    "        print('Converge en la iteracion:', epoch)\n",
    "        break\n",
    "    #Imprimir valores de los parametros cada 100 iteraciones\n",
    "    if epoch % 100 == 0:\n",
    "        print(f'Iteracion: {epoch+1}, m = {m}, b = {b}')\n"
   ]
  },
  {
   "cell_type": "code",
   "execution_count": 66,
   "metadata": {},
   "outputs": [
    {
     "name": "stdout",
     "output_type": "stream",
     "text": [
      "La pendiente es: 0.09798218128189554\n",
      "La interseccion es: 0.00010532997482870586\n"
     ]
    }
   ],
   "source": [
    "#Resultados del modelo en los datos de etrenamiento\n",
    "print(f'La pendiente es: {m}')\n",
    "print(f'La interseccion es: {b}')"
   ]
  },
  {
   "cell_type": "code",
   "execution_count": 67,
   "metadata": {},
   "outputs": [
    {
     "name": "stdout",
     "output_type": "stream",
     "text": [
      "['No' 'Sí']\n",
      "Etiquetas: None\n"
     ]
    }
   ],
   "source": [
    "etiquietas = print(np.unique(carro_train))\n",
    "print(f\"Etiquetas: {etiquietas}\")"
   ]
  },
  {
   "cell_type": "code",
   "execution_count": 68,
   "metadata": {},
   "outputs": [],
   "source": [
    "#Clasificador\n",
    "pred_train = m * x_train + b  # Predicciones para los datos de entrenamiento\n",
    "clasificador_carr_t = np.where(y_train > pred_train, \"simon\", \"nelpas\")\n",
    "matriz = confusion_matrix(carro_train, clasificador_carr_t, labels=[\"No\", \"Sí\"])\n",
    "disp = ConfusionMatrixDisplay(confusion_matrix=matriz, display_labels=[\"Carro de carreras\", \"No es carro de carreras\"])\n"
   ]
  },
  {
   "cell_type": "code",
   "execution_count": 69,
   "metadata": {},
   "outputs": [
    {
     "data": {
      "image/png": "[encoded data removed]",
      "text/plain": [
       "<Figure size 640x480 with 2 Axes>"
      ]
     },
     "metadata": {},
     "output_type": "display_data"
    }
   ],
   "source": [
    "disp = disp.plot(cmap=plt.cm.Blues)\n",
    "plt.title(\"Carros\")\n",
    "plt.show()"
   ]
  },
  {
   "cell_type": "code",
   "execution_count": null,
   "metadata": {},
   "outputs": [],
   "source": [
    "# Precision, recall y f1-score\n",
    "precision = precision_score(carro_train, clasificador_carr_t, pos_label=\"Sí\")\n",
    "recall = recall_score(carro_train, clasificador_carr_t, pos_label=\"Sí\")\n",
    "f1 = f1_score(carro_train, clasificador_carr_t, pos_label=\"Sí\")"
   ]
  },
  {
   "cell_type": "code",
   "execution_count": null,
   "metadata": {},
   "outputs": [],
   "source": [
    "print(f'Precision: {precision}')\n",
    "print(f'Recall: {recall}')\n",
    "print(f'F1-score: {f1}')"
   ]
  },
  {
   "cell_type": "code",
   "execution_count": null,
   "metadata": {},
   "outputs": [],
   "source": [
    "plt.figure(figsize=(10, 6))\n",
    "plt.scatter(x_train[carro_train == 'Sí'], y_train[carro_train == 'Sí'], color='red', label='Carro de carreras')\n",
    "plt.scatter(x_train[carro_train == 'No'], y_train[carro_train == 'No'], color='blue', label='No es carro de carreras')\n",
    "plt.scatter(x_train[clasificador_carr_t == 'Sí'], y_train[clasificador_carr_t == 'Sí'], color='green',marker='x', label='Clasificado como carro de carreras')\n",
    "plt.scatter(x_train[clasificador_carr_t == 'No'], y_train[clasificador_carr_t == 'No'], color='purple',marker='x', label='Clasificado como no carro de carreras')\n",
    "plt.plot(x_train,pred_train, color='black', label='Recta de regresión')\n",
    "\n",
    "plt.xlabel('Peso')\n",
    "plt.ylabel('Tiempo de vuelta')\n",
    "plt.title('Regresión Lineal con Clasificador')\n",
    "plt.legend()\n",
    "plt.grid(True)\n",
    "plt.show()"
   ]
  },
  {
   "cell_type": "code",
   "execution_count": null,
   "metadata": {},
   "outputs": [],
   "source": [
    "#Resultados del modelo en los datos de prueba\n",
    "pred_test = m * x_test + b  # Predicciones para los datos de prueba\n",
    "clasificador_carr_test = np.where(y_test > pred_test, \"simon\", \"nelpas\")\n",
    "\n",
    "matriz = confusion_matrix(carro_test, clasificador_carr_test, labels=[\"No\", \"Sí\"])\n",
    "disp_test = ConfusionMatrixDisplay(confusion_matrix=matriz, display_labels=[\"Carro de carreras\", \"No es carro de carreras\"])"
   ]
  },
  {
   "cell_type": "code",
   "execution_count": null,
   "metadata": {},
   "outputs": [],
   "source": [
    "disp_test.plot(cmap=plt.cm.Blues)\n",
    "plt.title(\"Carros\")\n",
    "plt.show()"
   ]
  },
  {
   "cell_type": "code",
   "execution_count": null,
   "metadata": {},
   "outputs": [],
   "source": [
    "#Precision, recall y f1-score\n",
    "precision = precision_score(carro_test, clasificador_carr_test, pos_label=\"Sí\")\n",
    "recall = recall_score(carro_test, clasificador_carr_test, pos_label=\"Sí\")\n",
    "f1 = f1_score(carro_test, clasificador_carr_test, pos_label=\"Sí\")\n",
    "\n",
    "print(f'Precision: {precision}')\n",
    "print(f'Recall: {recall}')\n",
    "print(f'F1-score: {f1}')"
   ]
  },
  {
   "cell_type": "code",
   "execution_count": null,
   "metadata": {},
   "outputs": [],
   "source": [
    "plt.figure(figsize=(10, 6))\n",
    "plt.scatter(x_test[carro_test == 'Sí'], y_test[carro_test == 'Sí'], color='red', label='Carro de carreras')\n",
    "plt.scatter(x_test[carro_test == 'No'], y_test[carro_test == 'No'], color='blue', label='No es carro de carreras')\n",
    "plt.scatter(x_test[clasificador_carr_test == 'Sí'], y_test[clasificador_carr_test == 'Sí'], color='green',marker='x', label='Clasificado como carro de carreras')\n",
    "plt.scatter(x_test[clasificador_carr_test == 'No'], y_test[clasificador_carr_test == 'No'], color='purple',marker='x', label='Clasificado como no carro de carreras')\n",
    "plt.plot(x_test,pred_test, color='black', label='Recta de regresión')\n",
    "\n",
    "plt.xlabel('Peso')\n",
    "plt.ylabel('Tiempo de vuelta')\n",
    "plt.title('Regresión Lineal con Clasificador')\n",
    "plt.legend()\n",
    "plt.grid(True)\n",
    "plt.show()"
   ]
  }
 ],
 "metadata": {
  "kernelspec": {
   "display_name": "base",
   "language": "python",
   "name": "python3"
  },
  "language_info": {
   "codemirror_mode": {
    "name": "ipython",
    "version": 3
   },
   "file_extension": ".py",
   "mimetype": "text/x-python",
   "name": "python",
   "nbconvert_exporter": "python",
   "pygments_lexer": "ipython3",
   "version": "3.11.9"
  }
 },
 "nbformat": 4,
 "nbformat_minor": 2
}
